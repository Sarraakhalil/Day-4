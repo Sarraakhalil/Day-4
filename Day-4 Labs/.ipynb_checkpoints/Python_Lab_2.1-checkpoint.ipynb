{
 "cells": [
  {
   "cell_type": "markdown",
   "metadata": {
    "id": "x7F-mxeubDUG"
   },
   "source": [
    "# Python_Lab_2.1\n"
   ]
  },
  {
   "cell_type": "markdown",
   "metadata": {
    "id": "14c6Hn1BbDUH"
   },
   "source": [
    "### Task 1\n",
    "1. Write a function named is_prime that takes a number as a parameter and returns True if the number is prime and False otherwise. Print whether the number 29 is prime."
   ]
  },
  {
   "cell_type": "code",
   "execution_count": null,
   "metadata": {
    "id": "5e_MZEN0bDUI"
   },
   "outputs": [],
   "source": [
    "# write your code here ^_^\n",
    "def is_prime(number):\n",
    "    if number %2 == 0:\n",
    "        return \"True\"\n",
    "        \n",
    "    else:\n",
    "        return \"False\""
   ]
  },
  {
   "cell_type": "markdown",
   "metadata": {
    "id": "2zKG8ZcybDUI"
   },
   "source": [
    "### Task 2\n",
    "1. Create a list of 10 numbers and sort them in descending order using the sort() function.\n",
    "2. Use the len() function to print the length of the sorted list.\n",
    "3. Use the zip() function to combine three lists (names, ages, and cities) into a list of tuples.\n",
    "4. Use the range() function to create a list of even numbers from 2 to 20 and print the list."
   ]
  },
  {
   "cell_type": "code",
   "execution_count": null,
   "metadata": {
    "id": "yyoe__M_bDUI"
   },
   "outputs": [],
   "source": [
    "# write your code here ^_^\n",
    "#Q1\n",
    "list_numbers = [7,4,9,3,6,5,3,2,8,5]\n",
    "list_numbers.sort(reverse=True)\n",
    "print(list_numbers)\n",
    "\n",
    "#Q2\n",
    "print(len(list_numbers))\n",
    "\n",
    "#Q3\n",
    "name = [\"Sarraa\", \"Suliman\", \"Hala\"]\n",
    "age = [24,19,13]\n",
    "cities = [\"Riyadh\",\"Makkah\",\"Dammam\"]\n",
    "result = (zip(name, age, cities))\n",
    "print(list(result))\n",
    "\n",
    "#Q4 \n",
    "even_num = list(range(2, 21, 2))\n",
    "print(even_num)"
   ]
  },
  {
   "cell_type": "markdown",
   "metadata": {
    "id": "aStW5p7AbDUI"
   },
   "source": [
    "### Task 3\n",
    "Build a phone book program that receives the phone number, and returns the name of the owner.\n",
    "You can follow the table below:\n",
    "\n",
    "| Name     | Number     |\n",
    "| -------- | ---------- |\n",
    "| Amal     | 1111111111 |\n",
    "| Mohammed | 2222222222 |\n",
    "| Khadijah | 3333333333 |\n",
    "| Abdullah | 4444444444 |\n",
    "| Rawan    | 5555555555 |\n",
    "| Faisal   | 6666666666 |\n",
    "| Layla    | 7777777777 |\n",
    "\n",
    "- If the number exists, print the owner. Otherwise, print \"Sorry, the number is not found\".\n",
    "- If the number is less or more than 10 numbers, print \"This is invalid number\".\n",
    "- If the number contains letters or symbols, print \"This is invalid number\".\n"
   ]
  },
  {
   "cell_type": "code",
   "execution_count": null,
   "metadata": {
    "id": "kvXmjUe-bDUJ"
   },
   "outputs": [],
   "source": [
    "# write your code here ^_^\n",
    "phone = {\"Amal\": 1111111111, \"Mohammed\": 2222222222,\"Khadijah\": 3333333333,\n",
    "    \"Abdullah\": 4444444444,\"Rawan\": 5555555555,\"Faisal\": 6666666666, \n",
    "         \"Layla\": 7777777777}\n",
    "number_check = input(\"Enter the number you want to check\")\n",
    "if number_check in phone:\n",
    "    print(\"Sorry, the number is not found\")\n",
    "else:\n",
    "    print(\"\")"
   ]
  },
  {
   "cell_type": "markdown",
   "metadata": {
    "id": "exLHQ28nbDUJ"
   },
   "source": [
    "### Task 4\n",
    "- Given the following list : [5, 4, 17, 19, 30, 2, 7, 10, 45]\n",
    "    1. Use a lambda function to filter out only the odd numbers.\n",
    "    2. Print the new list of odd numbers."
   ]
  },
  {
   "cell_type": "code",
   "execution_count": null,
   "metadata": {
    "id": "64SUsh1cbDUJ"
   },
   "outputs": [],
   "source": [
    "# write your code here ^_^\n",
    "numbers = [5, 4, 17, 19, 30, 2, 7, 10, 45]\n",
    "\n",
    "#lambda function desnit support iterator, so we use filtur() to creates an iterator element. \n",
    "result = list(filter(lambda odd_num: odd_num % 2 != 0, numbers))\n",
    "print(result)"
   ]
  }
 ],
 "metadata": {
  "colab": {
   "provenance": []
  },
  "kernelspec": {
   "display_name": "Python 3 (ipykernel)",
   "language": "python",
   "name": "python3"
  },
  "language_info": {
   "codemirror_mode": {
    "name": "ipython",
    "version": 3
   },
   "file_extension": ".py",
   "mimetype": "text/x-python",
   "name": "python",
   "nbconvert_exporter": "python",
   "pygments_lexer": "ipython3",
   "version": "3.11.7"
  }
 },
 "nbformat": 4,
 "nbformat_minor": 4
}
